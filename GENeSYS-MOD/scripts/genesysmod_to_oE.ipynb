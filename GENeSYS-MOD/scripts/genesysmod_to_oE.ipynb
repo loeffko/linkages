{
 "cells": [
  {
   "cell_type": "markdown",
   "metadata": {},
   "source": [
    "### General information\n",
    "\n",
    "This python module uses the following external packages:\n",
    "- pandas\n",
    "- pyam-iamc(https://github.com/IAMconsortium/pyam)\n",
    "- nomenclature-iamc (https://github.com/openENTRANCE/nomenclature)\n",
    "- gdxpds (https://github.com/NREL/gdx-pandas)"
   ]
  },
  {
   "cell_type": "markdown",
   "metadata": {},
   "source": [
    "#### File structure of the module\n",
    "- __this_file__ : Jupyter notebook with general guidelines\n",
    "- /genesysmod_to_iamc : Folder with actual conversion scripts\n",
    " - /genesysmod_to_iamc/mappings/ : Folder with mappings of GENeSYS-MOD variables to openEntrance nomenclature\n",
    " - /genesysmod_to_iamc/inputs/ : Folder with original GENeSYS-MOD pathway results\n",
    " - /genesysmod_to_iamc/out/ : Folder with generated csv files in openEntrance format\n",
    " - /genesysmod_to_iamc/definitions : Folder with the definitions from the openENTRANCE nomenclature repository (see info below) \n",
    " \n",
    "**Hint:** You need to make sure to download the most current version of the definitions from https://github.com/openENTRANCE/openentrance and paste the folder \"definitions\" in the local folder. A snapshot version of the definitions is provided, but will most likely not be up to date and lead to errors in the scenario explorer validation."
   ]
  },
  {
   "cell_type": "markdown",
   "metadata": {},
   "source": [
    "#### Changes to the scripts required to run the conversion\n",
    "This script uses gdxpds which was unable to succesfully locate the GAMS directory in its newsest version. Therefore, the path to GAMS needed to be set manually. **You will need to change the directory such that it correctly points to you installed GAMS distribution.** The variable is called *DEF_GAMS_DIR* and is set in the file *genesysmod_to_iamc/\\_statics.py*.\n",
    "\n",
    "Also, you can change the read-in filenames, model name, etc. in the same file."
   ]
  },
  {
   "cell_type": "markdown",
   "metadata": {},
   "source": [
    "### GENeSYS-MOD to openEntrance converter\n",
    "\n",
    "This jupyter notebook shows an exemplary conversion of GENeSYS-MOD results to the common openEntrance data fromat. The outputs of the scripts in this module will be csv files, that represent GENeSYS-MOD data in openEntrance nomenclature. First, the corresponding scripts will be imported as module to this notebook:"
   ]
  },
  {
   "cell_type": "code",
   "execution_count": null,
   "metadata": {
    "scrolled": true
   },
   "outputs": [],
   "source": [
    "import genesysmod_to_iamc"
   ]
  },
  {
   "cell_type": "markdown",
   "metadata": {},
   "source": [
    "Next, the actual result file conversion can be started by calling ```genesysmod_to_iamc.generate_data(FileName : str)```. For the ease of use, the module ```genesysmod_to_iamc``` also includes a enumeration ```Pathways``` that includes references to the filenames for the openEntrance Pathways:\n",
    "\n",
    "```\n",
    "class Pathways(Enum):\n",
    "    TF = \"TechnoFriendly\"\n",
    "    DT = \"DirectedTransition\"\n",
    "    GD = \"GradualDevelopment\"\n",
    "    SC = \"SocietalCommitment\"\n",
    "    \n",
    "```"
   ]
  },
  {
   "cell_type": "markdown",
   "metadata": {},
   "source": [
    "Furthermore, ```genesysmod_to_iamc.generate_data(FileName : str)``` has three optional parameters ```generate_series_data```, ```generate_load_factors``` and ```combine_outputs``` that all default to ```False```. \n",
    "\n",
    "If ```generate_series_data``` is set to ```True```, full hourly demand time series for Final Energy|Residential and Commercial|Electricity, Final Energy|Industry|Electricity, Final Energy|Transportation|Electricity, Final Energy|Electricity, Final Energy|Residential and Commercial and Final Energy|Industry will be generated. Full hourly demand series will be written to an extra file. **Note:** setting this parameter will significantly increase the computing time.\n",
    "\n",
    "If ```generate_load_factors``` is set to ```True```, full hourly load series for Solar PV, Wind Onshore and Wind Offshore will be generated. Full hourly load series will be written to an extra file. **Note:** setting this parameter will significantly increase the computing time.\n",
    "\n",
    "If ```combine_outputs``` is set to ```True```, the different result files for a pathway (yearly, hourly, load factors) can be combined to one single file. "
   ]
  },
  {
   "cell_type": "code",
   "execution_count": null,
   "metadata": {},
   "outputs": [],
   "source": [
    "generate_series_data = False\n",
    "generate_load_factors = False\n",
    "generate_transmission_data = True\n",
    "combine_outputs = True"
   ]
  },
  {
   "cell_type": "markdown",
   "metadata": {},
   "source": [
    "Example creation of TechnoFriendly (TF) Pathway results:"
   ]
  },
  {
   "cell_type": "code",
   "execution_count": null,
   "metadata": {
    "scrolled": true
   },
   "outputs": [],
   "source": [
    "genesysmod_to_iamc.generate_data(genesysmod_to_iamc.Pathways.TF.value, \n",
    "                                 generate_series_data, \n",
    "                                 generate_load_factors,\n",
    "                                 generate_transmission_data,\n",
    "                                 combine_outputs)"
   ]
  },
  {
   "cell_type": "markdown",
   "metadata": {},
   "source": [
    "And for the other pathways:"
   ]
  },
  {
   "cell_type": "code",
   "execution_count": null,
   "metadata": {
    "scrolled": true
   },
   "outputs": [],
   "source": [
    "genesysmod_to_iamc.generate_data(genesysmod_to_iamc.Pathways.SC.value, \n",
    "                                 generate_series_data, \n",
    "                                 generate_load_factors, \n",
    "                                 generate_transmission_data,\n",
    "                                 combine_outputs)\n",
    "genesysmod_to_iamc.generate_data(genesysmod_to_iamc.Pathways.GD.value, \n",
    "                                 generate_series_data, \n",
    "                                 generate_load_factors, \n",
    "                                 generate_transmission_data,\n",
    "                                 combine_outputs)\n",
    "genesysmod_to_iamc.generate_data(genesysmod_to_iamc.Pathways.DT.value, \n",
    "                                 generate_series_data, \n",
    "                                 generate_load_factors, \n",
    "                                 generate_transmission_data,\n",
    "                                 combine_outputs)"
   ]
  },
  {
   "cell_type": "markdown",
   "metadata": {},
   "source": [
    "Results will be written to ```\\GENEeSYS-MOD\\scripts\\genesysmod_to_iamc\\out```. The following line of code creates a unified Excel-File with all pathways combined (only yearly values are aggregated due to the file size limit of excel files):"
   ]
  },
  {
   "cell_type": "code",
   "execution_count": null,
   "metadata": {
    "scrolled": false
   },
   "outputs": [],
   "source": [
    "genesysmod_to_iamc.generate_combined_excel_yearly()"
   ]
  },
  {
   "cell_type": "code",
   "execution_count": null,
   "metadata": {},
   "outputs": [],
   "source": []
  },
  {
   "cell_type": "code",
   "execution_count": null,
   "metadata": {},
   "outputs": [],
   "source": []
  }
 ],
 "metadata": {
  "kernelspec": {
   "display_name": "Python 3 (ipykernel)",
   "language": "python",
   "name": "python3"
  },
  "language_info": {
   "codemirror_mode": {
    "name": "ipython",
    "version": 3
   },
   "file_extension": ".py",
   "mimetype": "text/x-python",
   "name": "python",
   "nbconvert_exporter": "python",
   "pygments_lexer": "ipython3",
   "version": "3.9.7"
  }
 },
 "nbformat": 4,
 "nbformat_minor": 4
}
